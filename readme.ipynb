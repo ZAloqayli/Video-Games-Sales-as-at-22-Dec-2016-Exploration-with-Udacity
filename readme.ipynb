{
 "cells": [
  {
   "cell_type": "markdown",
   "metadata": {},
   "source": [
    "# Video Games Sales as at 22 Dec 2016 Exploration\n",
    "\n",
    "## by Zyad Aloqayli\n",
    "\n",
    "\n",
    "## Dataset\n",
    "\n",
    "The data analyzed icludes information about approixmetly 16,000 games with ratings, and scores. Variables include year of release, genre, publisher, sales, and paltform.\n",
    "\n",
    "Nearly half of the observations were removed due to having null values.\n",
    "\n",
    "The dataset can be found <a href=\"https://www.kaggle.com/rush4ratio/video-game-sales-with-ratings\">here</a> \n",
    "\n",
    "\n",
    "\n",
    "## Summary \n",
    "\n",
    "In the exploration, I gained plenty useful insights onto the dataset.\n",
    "\n",
    "Questiuons I had before conducting the analysis:\n",
    "\n",
    "- what makes a game more sell more, what geners are more popular in certain markets?\n",
    "\n",
    "- find out if the socre of the game actully influences sales or not?\n",
    "\n",
    "After conducting the analysis i have answered these questions and more relavent questions:\n",
    "\n",
    "- Critics score does have an imapact on global sales.\n",
    "\n",
    "- Users score does have an imapact on global sales.\n",
    "\n",
    "- Rating E(for everyone) sells the most in all regions.\n",
    "\n",
    "- Sports, Action, and Racing games sell the most globally.\n",
    "\n",
    "- Fighiting, and Role-Playing games are mostly aimed towards teens.\n",
    "\n",
    "- All the popular genres sell more on PS4."
   ]
  },
  {
   "cell_type": "code",
   "execution_count": null,
   "metadata": {},
   "outputs": [],
   "source": []
  }
 ],
 "metadata": {
  "kernelspec": {
   "display_name": "Python 3",
   "language": "python",
   "name": "python3"
  },
  "language_info": {
   "codemirror_mode": {
    "name": "ipython",
    "version": 3
   },
   "file_extension": ".py",
   "mimetype": "text/x-python",
   "name": "python",
   "nbconvert_exporter": "python",
   "pygments_lexer": "ipython3",
   "version": "3.7.6"
  }
 },
 "nbformat": 4,
 "nbformat_minor": 4
}
